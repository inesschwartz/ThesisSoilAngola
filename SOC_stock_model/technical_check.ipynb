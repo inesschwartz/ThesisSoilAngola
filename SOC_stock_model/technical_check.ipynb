{
 "cells": [
  {
   "cell_type": "markdown",
   "metadata": {},
   "source": [
    "## Technical check"
   ]
  },
  {
   "cell_type": "markdown",
   "metadata": {},
   "source": [
    "### Checking that my covariate data prep procedures abide by fao norms"
   ]
  },
  {
   "cell_type": "code",
   "execution_count": null,
   "metadata": {},
   "outputs": [],
   "source": [
    "# bioclim --check how resampling was done --as i didn't change anything about the data, i don't think this will apply\n",
    "bioclimraster_folder = \"/Volumes/One_Touch/angola_soils_thesis/GIS_Angola/data_processed/bioclimatic32733/\"\n"
   ]
  },
  {
   "cell_type": "code",
   "execution_count": 3,
   "metadata": {},
   "outputs": [
    {
     "ename": "KeyboardInterrupt",
     "evalue": "",
     "output_type": "error",
     "traceback": [
      "\u001b[0;31m---------------------------------------------------------------------------\u001b[0m",
      "\u001b[0;31mKeyboardInterrupt\u001b[0m                         Traceback (most recent call last)",
      "Cell \u001b[0;32mIn[3], line 62\u001b[0m\n\u001b[1;32m     60\u001b[0m raster_path \u001b[38;5;241m=\u001b[39m os\u001b[38;5;241m.\u001b[39mpath\u001b[38;5;241m.\u001b[39mjoin(terrain_folder, layer_name)\n\u001b[1;32m     61\u001b[0m \u001b[38;5;28;01mif\u001b[39;00m os\u001b[38;5;241m.\u001b[39mpath\u001b[38;5;241m.\u001b[39mexists(raster_path):\n\u001b[0;32m---> 62\u001b[0m     method, n_unique \u001b[38;5;241m=\u001b[39m \u001b[43mguess_resampling\u001b[49m\u001b[43m(\u001b[49m\u001b[43mraster_path\u001b[49m\u001b[43m,\u001b[49m\u001b[43m \u001b[49m\u001b[43mlayer_type\u001b[49m\u001b[43m)\u001b[49m\n\u001b[1;32m     63\u001b[0m     results\u001b[38;5;241m.\u001b[39mappend({\n\u001b[1;32m     64\u001b[0m         \u001b[38;5;124m\"\u001b[39m\u001b[38;5;124mLayer\u001b[39m\u001b[38;5;124m\"\u001b[39m: layer_name,\n\u001b[1;32m     65\u001b[0m         \u001b[38;5;124m\"\u001b[39m\u001b[38;5;124mType\u001b[39m\u001b[38;5;124m\"\u001b[39m: layer_type,\n\u001b[1;32m     66\u001b[0m         \u001b[38;5;124m\"\u001b[39m\u001b[38;5;124mUnique Values\u001b[39m\u001b[38;5;124m\"\u001b[39m: n_unique,\n\u001b[1;32m     67\u001b[0m         \u001b[38;5;124m\"\u001b[39m\u001b[38;5;124mLikely Resampling\u001b[39m\u001b[38;5;124m\"\u001b[39m: method\n\u001b[1;32m     68\u001b[0m     })\n\u001b[1;32m     69\u001b[0m \u001b[38;5;28;01melse\u001b[39;00m:\n",
      "Cell \u001b[0;32mIn[3], line 34\u001b[0m, in \u001b[0;36mguess_resampling\u001b[0;34m(raster_path, layer_type)\u001b[0m\n\u001b[1;32m     32\u001b[0m \u001b[38;5;28;01mwith\u001b[39;00m rasterio\u001b[38;5;241m.\u001b[39mopen(raster_path) \u001b[38;5;28;01mas\u001b[39;00m src:\n\u001b[1;32m     33\u001b[0m     arr \u001b[38;5;241m=\u001b[39m src\u001b[38;5;241m.\u001b[39mread(\u001b[38;5;241m1\u001b[39m, masked\u001b[38;5;241m=\u001b[39m\u001b[38;5;28;01mTrue\u001b[39;00m)\n\u001b[0;32m---> 34\u001b[0m     arr \u001b[38;5;241m=\u001b[39m \u001b[43marr\u001b[49m\u001b[38;5;241;43m.\u001b[39;49m\u001b[43mcompressed\u001b[49m\u001b[43m(\u001b[49m\u001b[43m)\u001b[49m  \u001b[38;5;66;03m# remove NoData\u001b[39;00m\n\u001b[1;32m     36\u001b[0m \u001b[38;5;28;01mif\u001b[39;00m arr\u001b[38;5;241m.\u001b[39msize \u001b[38;5;241m==\u001b[39m \u001b[38;5;241m0\u001b[39m:\n\u001b[1;32m     37\u001b[0m     \u001b[38;5;28;01mreturn\u001b[39;00m \u001b[38;5;124m\"\u001b[39m\u001b[38;5;124mEmpty raster\u001b[39m\u001b[38;5;124m\"\u001b[39m, \u001b[38;5;241m0\u001b[39m\n",
      "File \u001b[0;32m/opt/homebrew/lib/python3.11/site-packages/numpy/ma/core.py:3890\u001b[0m, in \u001b[0;36mMaskedArray.compressed\u001b[0;34m(self)\u001b[0m\n\u001b[1;32m   3888\u001b[0m data \u001b[38;5;241m=\u001b[39m ndarray\u001b[38;5;241m.\u001b[39mravel(\u001b[38;5;28mself\u001b[39m\u001b[38;5;241m.\u001b[39m_data)\n\u001b[1;32m   3889\u001b[0m \u001b[38;5;28;01mif\u001b[39;00m \u001b[38;5;28mself\u001b[39m\u001b[38;5;241m.\u001b[39m_mask \u001b[38;5;129;01mis\u001b[39;00m \u001b[38;5;129;01mnot\u001b[39;00m nomask:\n\u001b[0;32m-> 3890\u001b[0m     data \u001b[38;5;241m=\u001b[39m \u001b[43mdata\u001b[49m\u001b[38;5;241;43m.\u001b[39;49m\u001b[43mcompress\u001b[49m\u001b[43m(\u001b[49m\u001b[43mnp\u001b[49m\u001b[38;5;241;43m.\u001b[39;49m\u001b[43mlogical_not\u001b[49m\u001b[43m(\u001b[49m\u001b[43mndarray\u001b[49m\u001b[38;5;241;43m.\u001b[39;49m\u001b[43mravel\u001b[49m\u001b[43m(\u001b[49m\u001b[38;5;28;43mself\u001b[39;49m\u001b[38;5;241;43m.\u001b[39;49m\u001b[43m_mask\u001b[49m\u001b[43m)\u001b[49m\u001b[43m)\u001b[49m\u001b[43m)\u001b[49m\n\u001b[1;32m   3891\u001b[0m \u001b[38;5;28;01mreturn\u001b[39;00m data\n",
      "\u001b[0;31mKeyboardInterrupt\u001b[0m: "
     ]
    }
   ],
   "source": [
    "import rasterio\n",
    "import numpy as np\n",
    "import os\n",
    "import glob\n",
    "import pandas as pd\n",
    "\n",
    "# --- Folder with your DEM / terrain rasters ---\n",
    "terrain_folder = \"/Volumes/One_Touch/angola_soils_thesis/GIS_Angola/data_processed/DEM_characteristics\"\n",
    "\n",
    "# --- List of files and their type (continuous vs categorical) ---\n",
    "terrain_layers = {\n",
    "    \"MRVBF.tif\": \"continuous\",\n",
    "    \"aspect_cos.tif\": \"continuous\",\n",
    "    \"aspect_sin.tif\": \"continuous\",\n",
    "    \"aspect.tif\": \"continuous\",\n",
    "    \"aspect_classes.tif\": \"categorical\",\n",
    "    \"slope.tif\": \"continuous\",\n",
    "    \"RLD.tif\": \"continuous\",\n",
    "    \"relief.tif\": \"continuous\",\n",
    "    \"roughness.tif\": \"continuous\",\n",
    "    \"DEM_filledfiltered.tif\": \"continuous\",\n",
    "    \"TWI_300.tif\": \"continuous\",\n",
    "    \"flow_accumulation.tif\": \"continuous\",\n",
    "    \"curve_plan.tif\": \"continuous\",\n",
    "    \"curv_profile.tif\": \"continuous\",\n",
    "    \"ridge_levels.tif\": \"categorical\",\n",
    "    \"valley_depth2.tif\": \"continuous\"\n",
    "}\n",
    "\n",
    "# --- Function to check gdal/qgis hisotry to confirm resampling method resampling method ---\n"
   ]
  },
  {
   "cell_type": "code",
   "execution_count": 1,
   "metadata": {},
   "outputs": [
    {
     "name": "stderr",
     "output_type": "stream",
     "text": [
      "/var/folders/tp/79mdnyy56_xc3g1jvp9wf4_80000gn/T/ipykernel_4276/2367881144.py:55: RuntimeWarning: invalid value encountered in cast\n",
      "  data = np.where(np.isnan(data), nodata, data).astype(dtype)\n"
     ]
    },
    {
     "name": "stdout",
     "output_type": "stream",
     "text": [
      "✅ Cleaned aspect_classes\n",
      "✅ Cleaned aspect\n",
      "✅ Cleaned MRVBF\n",
      "✅ Cleaned twi_300m\n",
      "✅ Cleaned slope\n",
      "✅ Cleaned dem_filledfiltered\n",
      "✅ Cleaned flow_accumulation\n",
      "✅ Cleaned valleydepth2\n",
      "✅ Cleaned ridge_levels\n",
      "✅ Cleaned aspect_sin\n",
      "✅ Cleaned aspect_cos\n",
      "✅ Cleaned RLD\n",
      "✅ Cleaned relief\n",
      "✅ Cleaned roughness\n"
     ]
    }
   ],
   "source": [
    "import rasterio\n",
    "import numpy as np\n",
    "import os\n",
    "import glob\n",
    "\n",
    "# --- Input / output paths ---\n",
    "raster_folder = \"/Volumes/One_Touch/angola_soils_thesis/GIS_Angola/data_processed/DEM_characteristics\"\n",
    "output_folder = os.path.join(raster_folder, \"cleaned\")\n",
    "os.makedirs(output_folder, exist_ok=True)\n",
    "\n",
    "# --- Define bad values per raster ---\n",
    "bad_values_dict = {\n",
    "    \"MRVBF\": -99999,\n",
    "    \"aspect_cos\": -3.40282e+38,\n",
    "    \"aspect_sin\": -3.40282e+38,\n",
    "    \"aspect\": -9999,\n",
    "    \"slope\": -9999,\n",
    "    \"RLD\": -3.40282e+38,\n",
    "    \"relief\": -9999,\n",
    "    \"roughness\": -9999,\n",
    "    \"DEM_filledfiltered\": -99999,\n",
    "    \"twi_300m\": -3.40282e+38,\n",
    "    \"flow_accumulation\": -99999,\n",
    "    \"curv_plan\": -99999,\n",
    "    \"curv_profile\": -99999,\n",
    "    \"valley_depth2\": -99999,\n",
    "    \"ridge_levels\": -99999\n",
    "}\n",
    "\n",
    "# --- Process each raster ---\n",
    "raster_files = glob.glob(os.path.join(raster_folder, \"*.tif\"))\n",
    "\n",
    "for raster_path in raster_files:\n",
    "    raster_name = os.path.splitext(os.path.basename(raster_path))[0]\n",
    "\n",
    "    # Identify if we have a bad value mapping\n",
    "    bad_value = bad_values_dict.get(raster_name, None)\n",
    "\n",
    "    with rasterio.open(raster_path) as src:\n",
    "        meta = src.meta.copy()\n",
    "        data = src.read(1)\n",
    "\n",
    "        # Replace bad values with NaN\n",
    "        if bad_value is not None:\n",
    "            mask = (data == bad_value) | np.isnan(data)\n",
    "        else:\n",
    "            mask = np.isnan(data)  # fallback\n",
    "\n",
    "        data = np.where(mask, np.nan, data)\n",
    "\n",
    "        # Determine if categorical (integer) or continuous (float)\n",
    "        if raster_name in [\"aspect_classes\", \"ridge_levels\"]:\n",
    "            dtype = rasterio.int32\n",
    "            nodata = -9999  # use a NoData integer placeholder for categorical\n",
    "            data = np.where(np.isnan(data), nodata, data).astype(dtype)\n",
    "        else:\n",
    "            dtype = rasterio.float32\n",
    "            nodata = np.nan\n",
    "            data = data.astype(dtype)\n",
    "\n",
    "        meta.update(dtype=dtype, nodata=nodata)\n",
    "\n",
    "        # Save cleaned raster\n",
    "        out_path = os.path.join(output_folder, os.path.basename(raster_path))\n",
    "        with rasterio.open(out_path, 'w', **meta) as dst:\n",
    "            dst.write(data, 1)\n",
    "\n",
    "    print(f\"✅ Cleaned {raster_name}\")\n"
   ]
  },
  {
   "cell_type": "markdown",
   "metadata": {},
   "source": [
    "## resolution check \n",
    "### checking resolution abides by fao norms"
   ]
  },
  {
   "cell_type": "code",
   "execution_count": 1,
   "metadata": {},
   "outputs": [
    {
     "name": "stdout",
     "output_type": "stream",
     "text": [
      "📏 DEM raster resolutions:\n",
      "MRVBF.tif → 300.0 x 300.0\n",
      "RLD.tif → 300.0 x 300.0\n",
      "aspect.tif → 30.591177525448536 x 30.59117752441045\n",
      "aspect_classes.tif → 0.0002777776034428655 x 0.00027777786828493456\n",
      "aspect_cos.tif → 30.591177525448536 x 30.59117752441045\n",
      "aspect_sin.tif → 30.591177525448536 x 30.59117752441045\n",
      "dem_filledfiltered.tif → 300.0 x 300.0\n",
      "flow_accumulation.tif → 300.0 x 300.0\n",
      "relief.tif → 300.0 x 300.0\n",
      "ridge_levels.tif → 300.0 x 300.0\n",
      "roughness.tif → 300.0 x 300.0\n",
      "slope.tif → 30.591177525448536 x 30.59117752441045\n",
      "twi_300m.tif → 300.0 x 300.0\n",
      "valleydepth2.tif → 300.0 x 300.0\n"
     ]
    }
   ],
   "source": [
    "import rasterio\n",
    "import glob\n",
    "import os\n",
    "\n",
    "# --- Input folder (your DEM rasters) ---\n",
    "terrain_folder = \"/Volumes/One_Touch/angola_soils_thesis/GIS_Angola/data_processed/DEM_characteristics\"\n",
    "\n",
    "# --- Get list of DEM files ---\n",
    "terrain_files = sorted(glob.glob(os.path.join(terrain_folder, \"*.tif\")))\n",
    "\n",
    "print(\"📏 DEM raster resolutions:\")\n",
    "for raster_path in terrain_files:\n",
    "    with rasterio.open(raster_path) as src:\n",
    "        res_x, res_y = src.res  # pixel size in map units (usually meters)\n",
    "        print(f\"{os.path.basename(raster_path)} → {res_x} x {res_y}\")\n"
   ]
  },
  {
   "cell_type": "code",
   "execution_count": 2,
   "metadata": {},
   "outputs": [
    {
     "name": "stdout",
     "output_type": "stream",
     "text": [
      "📏 Original DEM resolution:\n",
      "dem_utm.tif → 30.591177524925087 x 30.591177524925087\n"
     ]
    }
   ],
   "source": [
    "# og dem resolutionimport rasterio\n",
    "import os\n",
    "\n",
    "# --- Path to your original DEM ---\n",
    "og_dem = \"/Volumes/One_Touch/angola_soils_thesis/GIS_Angola/data_intermediary/dem_utm.tif\"\n",
    "\n",
    "print(\"📏 Original DEM resolution:\")\n",
    "with rasterio.open(og_dem) as src:\n",
    "    res_x, res_y = src.res  # pixel size in map units (usually meters)\n",
    "    print(f\"{os.path.basename(og_dem)} → {res_x} x {res_y}\")\n"
   ]
  },
  {
   "cell_type": "code",
   "execution_count": null,
   "metadata": {},
   "outputs": [],
   "source": [
    "## setting resolution to 300m (the resolution that matches a majority of my covariates) \n",
    "\n",
    "import rasterio\n",
    "from rasterio.warp import calculate_default_transform, reproject, Resampling\n",
    "import glob\n",
    "import os\n",
    "\n",
    "# --- Input and output folders ---\n",
    "input_folder = \"/Volumes/One_Touch/angola_soils_thesis/GIS_Angola/data_processed/DEM_characteristics/\"\n",
    "output_folder = \"/Volumes/One_Touch/angola_soils_thesis/GIS_Angola/data_processed/DEM_characteristics_300m/\"\n",
    "\n",
    "os.makedirs(output_folder, exist_ok=True)\n",
    "\n",
    "# --- Target resolution ---\n",
    "target_res = (300, 300)  # (xres, yres) in meters\n",
    "\n",
    "# --- Loop through all .tif files ---\n",
    "for raster_path in glob.glob(os.path.join(input_folder, \"*.tif\")):\n",
    "    with rasterio.open(raster_path) as src:\n",
    "        # Define target transform and metadata\n",
    "        transform, width, height = calculate_default_transform(\n",
    "            src.crs,\n",
    "            src.crs,   # same CRS, just resampling\n",
    "            src.width,\n",
    "            src.height,\n",
    "            *src.bounds,\n",
    "            resolution=target_res\n",
    "        )\n",
    "\n",
    "        kwargs = src.meta.copy()\n",
    "        kwargs.update({\n",
    "            \"crs\": src.crs,\n",
    "            \"transform\": transform,\n",
    "            \"width\": width,\n",
    "            \"height\": height\n",
    "        })\n",
    "\n",
    "        # Output path\n",
    "        out_path = os.path.join(output_folder, os.path.basename(raster_path))\n",
    "\n",
    "        # Perform reprojection / resampling\n",
    "        with rasterio.open(out_path, \"w\", **kwargs) as dst:\n",
    "            for i in range(1, src.count + 1):\n",
    "                reproject(\n",
    "                    source=rasterio.band(src, i),\n",
    "                    destination=rasterio.band(dst, i),\n",
    "                    src_transform=src.transform,\n",
    "                    src_crs=src.crs,\n",
    "                    dst_transform=transform,\n",
    "                    dst_crs=src.crs,\n",
    "                    resampling=Resampling.average  # use bilinear for continuous, nearest for categorical\n",
    "                )\n",
    "\n",
    "        print(f\"✅ Resampled {os.path.basename(raster_path)} → 300 m\")\n",
    "\n",
    "print(\"🎯 All rasters saved in:\", output_folder)"
   ]
  },
  {
   "cell_type": "code",
   "execution_count": null,
   "metadata": {},
   "outputs": [],
   "source": [
    "## all covariates resolution check\n",
    "\n",
    "import rasterio\n",
    "import geopandas as gpd\n",
    "import glob\n",
    "import os\n",
    "\n",
    "# --- Paths ---\n",
    "bioclimraster_folder = \"/Volumes/One_Touch/angola_soils_thesis/GIS_Angola/data_processed/bioclimatic32733/\"\n",
    "ecosyst_path = \"/Volumes/One_Touch/angola_soils_thesis/GIS_Angola/data_processed/labelled_ecosystems32733.tif\"\n",
    "soil_path = \"/Volumes/One_Touch/angola_soils_thesis/GIS_Angola/data_processed/angola_soil_data2_32733.gpkg\"\n",
    "lithology_path = \"/Volumes/One_Touch/angola_soils_thesis/GIS_Angola/data_processed/lithology2.gpkg\"\n",
    "landsurface_path = \"/Volumes/One_Touch/angola_soils_thesis/GIS_Angola/data_processed/landsurfaceforms/landsurfaceforms.tif\"\n",
    "\n",
    "print(\"📏 Checking raster resolutions...\")\n",
    "\n",
    "# --- Bioclimatic rasters ---\n",
    "bioclim_files = sorted(glob.glob(os.path.join(bioclimraster_folder, \"*.tif\")))\n",
    "for raster_path in bioclim_files:\n",
    "    with rasterio.open(raster_path) as src:\n",
    "        res_x, res_y = src.res\n",
    "        print(f\"Bioclim {os.path.basename(raster_path)} → {res_x:.2f} x {res_y:.2f}\")\n",
    "\n",
    "# --- Ecosystem raster ---\n",
    "with rasterio.open(ecosyst_path) as src:\n",
    "    res_x, res_y = src.res\n",
    "    print(f\"Ecosystem.tif → {res_x:.2f} x {res_y:.2f}\")\n",
    "\n",
    "# --- Landsurface raster ---\n",
    "with rasterio.open(landsurface_path) as src:\n",
    "    res_x, res_y = src.res\n",
    "    print(f\"Landsurfaceforms.tif → {res_x:.2f} x {res_y:.2f}\")\n",
    "\n",
    "print(\"\\n🌍 Checking vector datasets (no true resolution)...\")\n",
    "\n",
    "# --- Soil vector ---\n",
    "soil = gpd.read_file(soil_path)\n",
    "print(f\"Soil vector: {len(soil)} features, bounds = {soil.total_bounds}\")\n",
    "\n",
    "# --- Lithology vector ---\n",
    "lith = gpd.read_file(lithology_path)\n",
    "print(f\"Lithology vector: {len(lith)} features, bounds = {lith.total_bounds}\")\n"
   ]
  }
 ],
 "metadata": {
  "kernelspec": {
   "display_name": "Python 3",
   "language": "python",
   "name": "python3"
  },
  "language_info": {
   "codemirror_mode": {
    "name": "ipython",
    "version": 3
   },
   "file_extension": ".py",
   "mimetype": "text/x-python",
   "name": "python",
   "nbconvert_exporter": "python",
   "pygments_lexer": "ipython3",
   "version": "3.11.12"
  }
 },
 "nbformat": 4,
 "nbformat_minor": 2
}
