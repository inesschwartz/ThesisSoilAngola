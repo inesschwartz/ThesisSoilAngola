{
 "cells": [
  {
   "cell_type": "code",
   "execution_count": null,
   "metadata": {},
   "outputs": [],
   "source": [
    "#General EDA questions\n",
    "# what is it? graphical output and descriptive statistics for our data\n",
    "\n",
    "#ABOUT THE DATA\n",
    "# How many sites per country\n",
    "# how many sites per district\n",
    "# do I need to break into even more specific site groupings\n",
    "\n",
    "# How many horizon layers per site\n",
    "# depth range of horizon layers\n",
    "# classify depth by its soil horizon designation\n",
    "\n",
    "# generalize horizon labels --find out if any python package/function can set horizon label basd\n",
    "\n",
    "#crosstabulate\n",
    "## soil designation (taxonomic group and particle size)\n",
    "\n",
    "#Pattern matching\n",
    "## variation of particle size classes are within a specific subgroup (like a specific soil horizon)\n",
    "## pattern match on taxonomic group, geomorphology or parent material\n",
    "\n",
    "# filtering\n",
    "\n",
    "# common landforms in area, commanalities in climate, \n",
    "    ## parent material, taxonomic history, geomorphic data, ecological site history (?) useful\n",
    "\n"
   ]
  }
 ],
 "metadata": {
  "language_info": {
   "name": "python"
  }
 },
 "nbformat": 4,
 "nbformat_minor": 2
}
