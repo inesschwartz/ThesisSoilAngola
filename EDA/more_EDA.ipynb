{
 "cells": [
  {
   "cell_type": "code",
   "execution_count": null,
   "metadata": {},
   "outputs": [],
   "source": [
    "# basic EDA to add (FAO SOC cookbook notes)"
   ]
  },
  {
   "cell_type": "code",
   "execution_count": null,
   "metadata": {},
   "outputs": [],
   "source": [
    "# Bulk Density and SOC values (FAO SOC cookbook notes)\n",
    "\n",
    "#Bulk Density: Having 0.0g · cm−3 bulk density values is physically impossible, and the values higher than 2.0g · cm−3 are not typical for fine earth\n",
    "#--> remove bad values  dat$BLD[dat$BLD == 0] <- NA dat$BLD[dat$BLD > 2] <- NA summary(dat$BLD)"
   ]
  }
 ],
 "metadata": {
  "language_info": {
   "name": "python"
  }
 },
 "nbformat": 4,
 "nbformat_minor": 2
}
