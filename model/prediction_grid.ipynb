{
 "cells": [
  {
   "cell_type": "code",
   "execution_count": 1,
   "metadata": {},
   "outputs": [],
   "source": [
    "#paths to covariates used in model (for prediction grid)\n",
    "\n",
    "# faosoil_id = \"/Volumes/One_Touch/angola_soils_thesis/GIS_Angola/data_processed/angola_soil_gpkg_stuff/angola_soil_data_raster.tif\"\n",
    "# cropland1950 = \"/Volumes/One_Touch/angola_soils_thesis/GIS_Angola/data_processed/hyde_lu/hyde_lu_percent/cropland_1950_percent.tif\"\n",
    "# annual_precip = \"/Volumes/One_Touch/angola_soils_thesis/GIS_Angola/data_processed/covariates_rasters/bioclimatic32733_cleaned/annual_precip2.tif\"\n",
    "# precip_coldest_quarter = \"/Volumes/One_Touch/angola_soils_thesis/GIS_Angola/data_processed/covariates_rasters/bioclimatic32733_cleaned/precip_coldest_quarter32733.tif\"\n",
    "# precip_driest_quarter = \"/Volumes/One_Touch/angola_soils_thesis/GIS_Angola/data_processed/covariates_rasters/bioclimatic32733_cleaned/precip_driest_quarter32733.tif\"\n",
    "# tmax_mean = \"/Volumes/One_Touch/angola_soils_thesis/GIS_Angola/data_processed/annual_tmax_mean\" # multiple tifs per year but only 1 value per row in final training data table\n",
    "# MRRTF = \"/Volumes/One_Touch/angola_soils_thesis/GIS_Angola/data_processed/covariates_rasters/terraincovs/MRRTF.tif\"\n",
    "# MRVBF = \"/Volumes/One_Touch/angola_soils_thesis/GIS_Angola/data_processed/covariates_rasters/terraincovs/MRVBF.tif\"\n",
    "# aspect_cos = \"/Volumes/One_Touch/angola_soils_thesis/GIS_Angola/data_processed/covariates_rasters/terraincovs/aspect_cos.tif\"\n",
    "# normalized_height = \"/Volumes/One_Touch/angola_soils_thesis/GIS_Angola/data_processed/covariates_rasters/terraincovs/normalized_height.tif\"\n",
    "# relief_TRI = \"/Volumes/One_Touch/angola_soils_thesis/GIS_Angola/data_processed/covariates_rasters/terraincovs/relief_TRI.tif\"\n",
    "# terrain_surf_convexity = \"/Volumes/One_Touch/angola_soils_thesis/GIS_Angola/data_processed/covariates_rasters/terraincovs/terrain_surf_convexity.tif\"\n",
    "# terrain_surf_texture = \"/Volumes/One_Touch/angola_soils_thesis/GIS_Angola/data_processed/covariates_rasters/terraincovs/terrain_surf_texture.tif\"\n",
    "# valley_depth = \"/Volumes/One_Touch/angola_soils_thesis/GIS_Angola/data_processed/covariates_rasters/terraincovs/valley_depth.tif\"\n",
    "\n",
    "\n",
    "\n"
   ]
  },
  {
   "cell_type": "markdown",
   "metadata": {},
   "source": [
    "1) deal w tmax mean folder --> Make a single tmax_mean raster from yearly TIFFs"
   ]
  },
  {
   "cell_type": "code",
   "execution_count": 2,
   "metadata": {},
   "outputs": [
    {
     "ename": "ValueError",
     "evalue": "Raster alignment mismatch: /Volumes/One_Touch/angola_soils_thesis/GIS_Angola/data_processed/annual_tmax_mean/tmax_1951_annual_mean.tif",
     "output_type": "error",
     "traceback": [
      "\u001b[0;31m---------------------------------------------------------------------------\u001b[0m",
      "\u001b[0;31mValueError\u001b[0m                                Traceback (most recent call last)",
      "Cell \u001b[0;32mIn[2], line 24\u001b[0m\n\u001b[1;32m     22\u001b[0m a \u001b[38;5;241m=\u001b[39m src\u001b[38;5;241m.\u001b[39mread(\u001b[38;5;241m1\u001b[39m)\u001b[38;5;241m.\u001b[39mastype(np\u001b[38;5;241m.\u001b[39mfloat64)\n\u001b[1;32m     23\u001b[0m \u001b[38;5;28;01mif\u001b[39;00m src\u001b[38;5;241m.\u001b[39mtransform \u001b[38;5;241m!=\u001b[39m profile[\u001b[38;5;124m'\u001b[39m\u001b[38;5;124mtransform\u001b[39m\u001b[38;5;124m'\u001b[39m] \u001b[38;5;129;01mor\u001b[39;00m src\u001b[38;5;241m.\u001b[39mcrs \u001b[38;5;241m!=\u001b[39m profile[\u001b[38;5;124m'\u001b[39m\u001b[38;5;124mcrs\u001b[39m\u001b[38;5;124m'\u001b[39m] \u001b[38;5;129;01mor\u001b[39;00m src\u001b[38;5;241m.\u001b[39mres \u001b[38;5;241m!=\u001b[39m profile[\u001b[38;5;124m'\u001b[39m\u001b[38;5;124mtransform\u001b[39m\u001b[38;5;124m'\u001b[39m][:\u001b[38;5;241m2\u001b[39m]:\n\u001b[0;32m---> 24\u001b[0m     \u001b[38;5;28;01mraise\u001b[39;00m \u001b[38;5;167;01mValueError\u001b[39;00m(\u001b[38;5;124mf\u001b[39m\u001b[38;5;124m\"\u001b[39m\u001b[38;5;124mRaster alignment mismatch: \u001b[39m\u001b[38;5;132;01m{\u001b[39;00mf\u001b[38;5;132;01m}\u001b[39;00m\u001b[38;5;124m\"\u001b[39m)\n\u001b[1;32m     25\u001b[0m mask \u001b[38;5;241m=\u001b[39m \u001b[38;5;241m~\u001b[39mnp\u001b[38;5;241m.\u001b[39misnan(a)\n\u001b[1;32m     26\u001b[0m \u001b[38;5;28;01mif\u001b[39;00m nodata \u001b[38;5;129;01mis\u001b[39;00m \u001b[38;5;129;01mnot\u001b[39;00m \u001b[38;5;28;01mNone\u001b[39;00m:\n",
      "\u001b[0;31mValueError\u001b[0m: Raster alignment mismatch: /Volumes/One_Touch/angola_soils_thesis/GIS_Angola/data_processed/annual_tmax_mean/tmax_1951_annual_mean.tif"
     ]
    }
   ],
   "source": [
    "# --- Build a multi-year mean tmax raster aligned to 1 km UTM 33S ---\n",
    "import os, glob\n",
    "import numpy as np\n",
    "import rasterio\n",
    "\n",
    "tmax_dir = \"/Volumes/One_Touch/angola_soils_thesis/GIS_Angola/data_processed/annual_tmax_mean\"  # folder of yearly tifs\n",
    "out_tmax = \"/Volumes/One_Touch/angola_soils_thesis/GIS_Angola/data_processed/annual_tmax_mean_mean.tif\"\n",
    "\n",
    "files = sorted(glob.glob(os.path.join(tmax_dir, \"*.tif\")))\n",
    "if len(files) == 0:\n",
    "    raise FileNotFoundError(\"No yearly tmax rasters found.\")\n",
    "\n",
    "# Use the first file as template\n",
    "with rasterio.open(files[0]) as src0:\n",
    "    profile = src0.profile\n",
    "    nodata = src0.nodata\n",
    "    stack_sum = np.zeros((src0.height, src0.width), dtype=np.float64)\n",
    "    stack_cnt = np.zeros_like(stack_sum, dtype=np.uint16)\n",
    "\n",
    "for f in files:\n",
    "    with rasterio.open(f) as src:\n",
    "        a = src.read(1).astype(np.float64)\n",
    "        if src.transform != profile['transform'] or src.crs != profile['crs'] or src.res != profile['transform'][:2]:\n",
    "            raise ValueError(f\"Raster alignment mismatch: {f}\")\n",
    "        mask = ~np.isnan(a)\n",
    "        if nodata is not None:\n",
    "            mask &= (a != nodata)\n",
    "        stack_sum[mask] += a[mask]\n",
    "        stack_cnt[mask] += 1\n",
    "\n",
    "mean_tmax = np.where(stack_cnt > 0, stack_sum / stack_cnt, np.nan)\n",
    "\n",
    "profile.update(dtype=\"float32\", nodata=np.nan)\n",
    "\n",
    "with rasterio.open(out_tmax, \"w\", **profile) as dst:\n",
    "    dst.write(mean_tmax.astype(\"float32\"), 1)\n",
    "\n",
    "print(f\"✅ Wrote climatological tmax: {out_tmax}\")\n"
   ]
  },
  {
   "cell_type": "markdown",
   "metadata": {},
   "source": [
    "## make sure all rasters align\n"
   ]
  },
  {
   "cell_type": "code",
   "execution_count": null,
   "metadata": {},
   "outputs": [],
   "source": [
    "## make sure all rasters align\n",
    "\n",
    "import rasterio, os\n",
    "\n",
    "rasters = {\n",
    "  \"faosoil_id\": \"/Volumes/One_Touch/angola_soils_thesis/GIS_Angola/data_processed/angola_soil_gpkg_stuff/angola_soil_data_raster.tif\",\n",
    "  \"cropland_1950\": \"/Volumes/One_Touch/angola_soils_thesis/GIS_Angola/data_processed/hyde_lu/hyde_lu_percent/cropland_1950_percent.tif\",\n",
    "  \"annual_precip\": \"/Volumes/One_Touch/angola_soils_thesis/GIS_Angola/data_processed/covariates_rasters/bioclimatic32733_cleaned/annual_precip2.tif\",\n",
    "  \"precip_coldest_quarter\": \"/Volumes/One_Touch/angola_soils_thesis/GIS_Angola/data_processed/covariates_rasters/bioclimatic32733_cleaned/precip_coldest_quarter32733.tif\",\n",
    "  \"precip_driest_quarter\": \"/Volumes/One_Touch/angola_soils_thesis/GIS_Angola/data_processed/covariates_rasters/bioclimatic32733_cleaned/precip_driest_quarter32733.tif\",\n",
    "  \"tmax_mean\": \"/Volumes/One_Touch/angola_soils_thesis/GIS_Angola/data_processed/annual_tmax_mean_mean.tif\",\n",
    "  \"MRRTF\": \"/Volumes/One_Touch/angola_soils_thesis/GIS_Angola/data_processed/covariates_rasters/terraincovs/MRRTF.tif\",\n",
    "  \"MRVBF\": \"/Volumes/One_Touch/angola_soils_thesis/GIS_Angola/data_processed/covariates_rasters/terraincovs/MRVBF.tif\",\n",
    "  \"aspect_cos\": \"/Volumes/One_Touch/angola_soils_thesis/GIS_Angola/data_processed/covariates_rasters/terraincovs/aspect_cos.tif\",\n",
    "  \"normalized_height\": \"/Volumes/One_Touch/angola_soils_thesis/GIS_Angola/data_processed/covariates_rasters/terraincovs/normalized_height.tif\",\n",
    "  \"relief_TRI\": \"/Volumes/One_Touch/angola_soils_thesis/GIS_Angola/data_processed/covariates_rasters/terraincovs/relief_TRI.tif\",\n",
    "  \"terrain_surf_convexity\": \"/Volumes/One_Touch/angola_soils_thesis/GIS_Angola/data_processed/covariates_rasters/terraincovs/terrain_surf_convexity.tif\",\n",
    "  \"terrain_surf_texture\": \"/Volumes/One_Touch/angola_soils_thesis/GIS_Angola/data_processed/covariates_rasters/terraincovs/terrain_surf_texture.tif\",\n",
    "  \"valley_depth\": \"/Volumes/One_Touch/angola_soils_thesis/GIS_Angola/data_processed/covariates_rasters/terraincovs/valley_depth.tif\",\n",
    "}\n",
    "\n",
    "tmpl = None\n",
    "for name, path in rasters.items():\n",
    "    with rasterio.open(path) as src:\n",
    "        info = (str(src.crs), src.res, src.width, src.height, src.transform)\n",
    "        if tmpl is None:\n",
    "            tmpl = info\n",
    "            print(\"Template:\", name, info[:4])\n",
    "        else:\n",
    "            ok = (info[0] == tmpl[0]) and (info[1] == tmpl[1]) and (info[2] == tmpl[2]) and (info[3] == tmpl[3]) and (info[4] == tmpl[4])\n",
    "            print(f\"{name}: {'OK' if ok else 'MISMATCH'}\")\n"
   ]
  },
  {
   "cell_type": "markdown",
   "metadata": {},
   "source": [
    "## Build the CSV prediction stack (coordinates + 15 covariates)"
   ]
  },
  {
   "cell_type": "code",
   "execution_count": null,
   "metadata": {},
   "outputs": [],
   "source": [
    "## Build the CSV prediction stack (coordinates + 15 covariates)\n",
    "\n",
    "import rasterio\n",
    "import numpy as np\n",
    "import pandas as pd\n",
    "\n",
    "# use one covariate (e.g., MRVBF) as the mask/grid driver\n",
    "base_name = \"MRVBF\"\n",
    "base_path = \"/Volumes/One_Touch/angola_soils_thesis/GIS_Angola/data_processed/covariates_rasters/terraincovs/MRVBF.tif\"\n",
    "\n",
    "with rasterio.open(base_path) as src0:\n",
    "    base = src0.read(1)\n",
    "    transform = src0.transform\n",
    "    nodata0 = src0.nodata\n",
    "    rows, cols = np.where(~np.isnan(base) & ((nodata0 is None) | (base != nodata0)))\n",
    "    xs, ys = rasterio.transform.xy(transform, rows, cols)\n",
    "\n",
    "grid = pd.DataFrame({\"X_coord\": xs, \"Y_coord\": ys})\n",
    "\n",
    "# add each covariate value at those grid cells\n",
    "for name, path in rasters.items():\n",
    "    with rasterio.open(path) as src:\n",
    "        arr = src.read(1)\n",
    "        vals = arr[rows, cols]\n",
    "        grid[name] = vals\n",
    "        print(f\"Added {name}\")\n",
    "\n",
    "# optional: set categorical ints for faosoil_id\n",
    "# grid['faosoil_id'] = grid['faosoil_id'].astype('Int32')\n",
    "\n",
    "# save\n",
    "out_csv = \"/Users/inesschwartz/Desktop/model/covariates_stack_1km_utm33s.csv\"\n",
    "grid.to_csv(out_csv, index=False)\n",
    "print(f\"✅ Wrote stack: {out_csv} | rows={len(grid)} cols={grid.shape[1]}\")\n"
   ]
  },
  {
   "cell_type": "code",
   "execution_count": 4,
   "metadata": {},
   "outputs": [
    {
     "name": "stdout",
     "output_type": "stream",
     "text": [
      "Found 19 aligned rasters.\n",
      "✅ Multi-year tmax mean written to:\n",
      "/Volumes/One_Touch/angola_soils_thesis/GIS_Angola/data_processed/covariates_rasters/bioclimatic32733_cleaned/tmax_mean_mean.tif\n"
     ]
    },
    {
     "name": "stderr",
     "output_type": "stream",
     "text": [
      "/var/folders/tp/79mdnyy56_xc3g1jvp9wf4_80000gn/T/ipykernel_20530/2966087626.py:28: RuntimeWarning: invalid value encountered in divide\n",
      "  mean_tmax = np.where(count > 0, stack / count, np.nan)\n"
     ]
    }
   ],
   "source": [
    "## working out tmax temporal issues, made a tmax_mean_mean tif instead of yearly tifs\n",
    "\n",
    "import os, glob\n",
    "import numpy as np\n",
    "import rasterio\n",
    "\n",
    "aligned_dir = \"/Volumes/One_Touch/angola_soils_thesis/GIS_Angola/data_processed/annual_tmax_mean_aligned\"\n",
    "out_tmax = \"/Volumes/One_Touch/angola_soils_thesis/GIS_Angola/data_processed/covariates_rasters/bioclimatic32733_cleaned/tmax_mean_mean.tif\"\n",
    "\n",
    "files = sorted(glob.glob(os.path.join(aligned_dir, \"*.tif\")))\n",
    "print(f\"Found {len(files)} aligned rasters.\")\n",
    "\n",
    "with rasterio.open(files[0]) as src0:\n",
    "    profile = src0.profile\n",
    "    nodata = src0.nodata\n",
    "    stack = np.zeros((src0.height, src0.width), dtype=np.float64)\n",
    "    count = np.zeros_like(stack, dtype=np.uint16)\n",
    "\n",
    "for f in files:\n",
    "    with rasterio.open(f) as src:\n",
    "        a = src.read(1).astype(np.float64)\n",
    "        mask = ~np.isnan(a)\n",
    "        if nodata is not None:\n",
    "            mask &= (a != nodata)\n",
    "        stack[mask] += a[mask]\n",
    "        count[mask] += 1\n",
    "\n",
    "mean_tmax = np.where(count > 0, stack / count, np.nan)\n",
    "\n",
    "profile.update(dtype=\"float32\", nodata=np.nan)\n",
    "\n",
    "with rasterio.open(out_tmax, \"w\", **profile) as dst:\n",
    "    dst.write(mean_tmax.astype(\"float32\"), 1)\n",
    "\n",
    "print(f\"✅ Multi-year tmax mean written to:\\n{out_tmax}\")\n"
   ]
  },
  {
   "cell_type": "code",
   "execution_count": 5,
   "metadata": {},
   "outputs": [
    {
     "name": "stdout",
     "output_type": "stream",
     "text": [
      "Found 19 aligned rasters.\n",
      "✅ Multi-year tmax mean written to:\n",
      "/Volumes/One_Touch/angola_soils_thesis/GIS_Angola/data_processed/covariates_rasters/bioclimatic32733_cleaned/tmin_mean_mean.tif\n"
     ]
    },
    {
     "name": "stderr",
     "output_type": "stream",
     "text": [
      "/var/folders/tp/79mdnyy56_xc3g1jvp9wf4_80000gn/T/ipykernel_20530/1444607002.py:29: RuntimeWarning: invalid value encountered in divide\n",
      "  mean_tmax = np.where(count > 0, stack / count, np.nan)\n"
     ]
    }
   ],
   "source": [
    "## do same for tmin just bc...\n",
    "## working out tmax temporal issues:\n",
    "\n",
    "import os, glob\n",
    "import numpy as np\n",
    "import rasterio\n",
    "\n",
    "aligned_dir = \"/Volumes/One_Touch/angola_soils_thesis/GIS_Angola/data_processed/annual_tmin_mean_aligned\"\n",
    "out_tmax = \"/Volumes/One_Touch/angola_soils_thesis/GIS_Angola/data_processed/covariates_rasters/bioclimatic32733_cleaned/tmin_mean_mean.tif\"\n",
    "\n",
    "files = sorted(glob.glob(os.path.join(aligned_dir, \"*.tif\")))\n",
    "print(f\"Found {len(files)} aligned rasters.\")\n",
    "\n",
    "with rasterio.open(files[0]) as src0:\n",
    "    profile = src0.profile\n",
    "    nodata = src0.nodata\n",
    "    stack = np.zeros((src0.height, src0.width), dtype=np.float64)\n",
    "    count = np.zeros_like(stack, dtype=np.uint16)\n",
    "\n",
    "for f in files:\n",
    "    with rasterio.open(f) as src:\n",
    "        a = src.read(1).astype(np.float64)\n",
    "        mask = ~np.isnan(a)\n",
    "        if nodata is not None:\n",
    "            mask &= (a != nodata)\n",
    "        stack[mask] += a[mask]\n",
    "        count[mask] += 1\n",
    "\n",
    "mean_tmax = np.where(count > 0, stack / count, np.nan)\n",
    "\n",
    "profile.update(dtype=\"float32\", nodata=np.nan)\n",
    "\n",
    "with rasterio.open(out_tmax, \"w\", **profile) as dst:\n",
    "    dst.write(mean_tmax.astype(\"float32\"), 1)\n",
    "\n",
    "print(f\"✅ Multi-year tmax mean written to:\\n{out_tmax}\")\n"
   ]
  },
  {
   "cell_type": "code",
   "execution_count": null,
   "metadata": {},
   "outputs": [],
   "source": []
  }
 ],
 "metadata": {
  "kernelspec": {
   "display_name": "Python 3",
   "language": "python",
   "name": "python3"
  },
  "language_info": {
   "codemirror_mode": {
    "name": "ipython",
    "version": 3
   },
   "file_extension": ".py",
   "mimetype": "text/x-python",
   "name": "python",
   "nbconvert_exporter": "python",
   "pygments_lexer": "ipython3",
   "version": "3.11.12"
  }
 },
 "nbformat": 4,
 "nbformat_minor": 2
}
