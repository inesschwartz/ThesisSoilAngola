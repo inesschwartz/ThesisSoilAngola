{
 "cells": [
  {
   "cell_type": "markdown",
   "metadata": {},
   "source": [
    "### SOC Stock Model Work"
   ]
  },
  {
   "cell_type": "code",
   "execution_count": 3,
   "metadata": {},
   "outputs": [],
   "source": [
    "## Prepare Training Data to estimate SOC stock throughout Angola\n",
    "\n",
    "# load libraries\n",
    "import geopandas as gpd\n",
    "import pandas as pd\n",
    "from rasterstats import point_query\n",
    "import os\n",
    "\n",
    "# Load your harmonized SOC dataset (with X_coord, Y_coord)\n",
    "soc_df = pd.read_csv(\"/Users/inesschwartz/Desktop/cleandata/harmonized_soc_0_30cm.csv\")  # columns must include: profile, X_coord, Y_coord, SOC\n",
    "\n",
    "# Convert to GeoDataFrame\n",
    "gdf = gpd.GeoDataFrame(\n",
    "    soc_df,\n",
    "    geometry=gpd.points_from_xy(soc_df[\"X_coord\"], soc_df[\"Y_coord\"]),\n",
    "    crs=\"EPSG:32733\"\n",
    ")"
   ]
  },
  {
   "cell_type": "code",
   "execution_count": null,
   "metadata": {},
   "outputs": [],
   "source": [
    "## Define raster files \n",
    "\n",
    "dem_files = {\n",
    "    \"dem_hillshade\": \"/Volumes/One_Touch/angola_thesis_gis/GIS_Angola/data_processed/hillshade.tif\",\n",
    "    \"dem_aspect\": \"/Volumes/One_Touch/angola_thesis_gis/GIS_Angola/data_processed/aspect.tif\",\n",
    "    \"dem_aspect_classes\": \"/Volumes/One_Touch/angola_thesis_gis/GIS_Angola/data_processed/aspect_classes2.tif\",\n",
    "    \"dem_slope\": \"/Volumes/One_Touch/angola_thesis_gis/GIS_Angola/data_processed/slope.tif\",\n",
    "    \"dem_elevation\": \"/Volumes/One_Touch/angola_thesis_gis/GIS_Angola/data_processed/dem_utm.tif\"\n",
    "}\n",
    "\n",
    "clim_files = {\n",
    "    \"clim_annual_temp\": \"/Volumes/One_Touch/angola_thesis_gis/GIS_Angola/data_processed/bioclimaticdata/annual_mean_temp.tif\",\n",
    "    \"clim_temp_seasonality\": \"/Volumes/One_Touch/angola_thesis_gis/GIS_Angola/data_processed/bioclimaticdata/temp_seasonality.tif\",\n",
    "    \"clim_annual_precip\": \"/Volumes/One_Touch/angola_thesis_gis/GIS_Angola/data_processed/bioclimaticdata/annual_precip2.tif\",\n",
    "    \"clim_precip_seasonality\": \"/Volumes/One_Touch/angola_thesis_gis/GIS_Angola/data_processed/bioclimaticdata/precip_seasonality2.tif\"\n",
    "}\n",
    "\n",
    "extra_files = {\n",
    "    \"soil_type\": \"/Volumes/One_Touch/angola_thesis_gis/GIS_Angola/data_processed/angola_soil_data_raster.tif\",\n",
    "    \"lithology\": \"/Volumes/One_Touch/angola_thesis_gis/GIS_Angola/data_processed/lithology_rasterized.tif\",\n",
    "    \"landform\": \"/Volumes/One_Touch/angola_thesis_gis/GIS_Angola/data_processed/landcover_raster.tif\"\n",
    "}\n",
    "\n",
    "# Combine all rasters\n",
    "all_rasters = {**dem_files, **clim_files, **extra_files}"
   ]
  },
  {
   "cell_type": "code",
   "execution_count": null,
   "metadata": {},
   "outputs": [],
   "source": [
    "# Extract raster values at points\n",
    "\n",
    "print(\"Starting raster extraction at points...\")\n",
    "\n",
    "extracted_data = {}\n",
    "\n",
    "for col_name, raster_path in all_rasters.items():\n",
    "    if not os.path.exists(raster_path):\n",
    "        print(f\"Warning: {raster_path} does not exist, skipping.\")\n",
    "        continue\n",
    "    \n",
    "    print(f\"Extracting {col_name} from {raster_path} ...\")\n",
    "    values = point_query(gdf, raster_path)\n",
    "\n",
    "    # Flatten if single-band raster (dict with band numbers)\n",
    "    if isinstance(values[0], dict):\n",
    "        values = [v[1] for v in values]\n",
    "\n",
    "    extracted_data[col_name] = values\n",
    "\n",
    "print(\"Raster extraction completed.\")"
   ]
  }
 ],
 "metadata": {
  "kernelspec": {
   "display_name": "Python 3",
   "language": "python",
   "name": "python3"
  },
  "language_info": {
   "codemirror_mode": {
    "name": "ipython",
    "version": 3
   },
   "file_extension": ".py",
   "mimetype": "text/x-python",
   "name": "python",
   "nbconvert_exporter": "python",
   "pygments_lexer": "ipython3",
   "version": "3.11.12"
  }
 },
 "nbformat": 4,
 "nbformat_minor": 2
}
