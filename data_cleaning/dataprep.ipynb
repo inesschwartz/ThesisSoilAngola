{
 "cells": [
  {
   "cell_type": "markdown",
   "metadata": {},
   "source": [
    "## Prepping (joining) datasets for DB"
   ]
  },
  {
   "cell_type": "code",
   "execution_count": 17,
   "metadata": {},
   "outputs": [],
   "source": [
    "import pandas as pd\n",
    "import os\n",
    "\n",
    "samples_check = pd.read_csv(\"/Users/inesschwartz/Desktop/cleandata/samples_check.csv\")\n",
    "morpho = pd.read_csv(\"/Users/inesschwartz/Desktop/cleandata/morpho.csv\")\n",
    "lab_analysis = pd.read_csv(\"/Users/inesschwartz/Desktop/cleandata/analysis.csv\")\n",
    "site_info = pd.read_csv(\"/Users/inesschwartz/Desktop/cleandata/site_info.csv\")\n",
    "soil_type = pd.read_csv(\"/Users/inesschwartz/Desktop/cleandata/soil_type.csv\")\n",
    "\n",
    "profile_record = pd.read_csv(\"/Users/inesschwartz/Desktop/cleandata/profile_record_clean.csv\")"
   ]
  },
  {
   "cell_type": "code",
   "execution_count": 1,
   "metadata": {},
   "outputs": [
    {
     "name": "stdout",
     "output_type": "stream",
     "text": [
      "\n",
      "📄 File: analysis.csv\n",
      "lab_sample_id      int64\n",
      "analysis_id       object\n",
      "horizon_id        object\n",
      "sample_id         object\n",
      "profile           object\n",
      "                  ...   \n",
      "Tl               float64\n",
      "Pb               float64\n",
      "Bi               float64\n",
      "Th               float64\n",
      "U                float64\n",
      "Length: 71, dtype: object\n",
      "\n",
      "📄 File: soil_type.csv\n",
      "soil_type_id     int64\n",
      "profile         object\n",
      "CEP_GR          object\n",
      "CEP_NAME        object\n",
      "FAO             object\n",
      "dtype: object\n",
      "\n",
      "📄 File: geology_mapping.csv\n",
      "geology_code           object\n",
      "geology_description    object\n",
      "dtype: object\n",
      "\n",
      "📄 File: lithology1954_mapping.csv\n",
      "lithology_1954_code           object\n",
      "lithology_1954_description    object\n",
      "dtype: object\n",
      "\n",
      "📄 File: samples_check.csv\n",
      "sample_id              int64\n",
      "site_info_id          object\n",
      "profile_record_id    float64\n",
      "profile               object\n",
      "horizon_id           float64\n",
      "shelf                 object\n",
      "room                  object\n",
      "year                 float64\n",
      "dtype: object\n",
      "\n",
      "📄 File: morpho.csv\n",
      "horizon_id                             object\n",
      "sample_id                             float64\n",
      "profile                                object\n",
      "horizon_layer                           int64\n",
      "upper_depth                           float64\n",
      "lower_depth                           float64\n",
      "dry_color_name                         object\n",
      "dry_hue                                object\n",
      "dry_value                             float64\n",
      "dry_chroma                            float64\n",
      "moist_color_name                       object\n",
      "moist_hue                              object\n",
      "moist_value                           float64\n",
      "moist_chroma                          float64\n",
      "Manchas                                object\n",
      "texture                                object\n",
      "Abundância de elementos grosseiros     object\n",
      "Forma de elementos grosseiros          object\n",
      "Natureza de elementos grosseiros       object\n",
      "structure_type                         object\n",
      "structure_class                        object\n",
      "structure_degree                       object\n",
      "compaction                             object\n",
      "durability                             object\n",
      "pore_quantity                          object\n",
      "pore_diameter                          object\n",
      "pore_shape                            float64\n",
      "root_quantity                          object\n",
      "root_diameter                          object\n",
      "moisture_degree                        object\n",
      "dtype: object\n",
      "\n",
      "📄 File: site_info.csv\n",
      "site_info_id         int64\n",
      "ID                   int64\n",
      "profile             object\n",
      "X_coord            float64\n",
      "Y_coord            float64\n",
      "land_cover_id      float64\n",
      "climate_id         float64\n",
      "geology_id         float64\n",
      "topo_feature_id    float64\n",
      "sampling_date      float64\n",
      "districts_id       float64\n",
      "district            object\n",
      "dtype: object\n",
      "\n",
      "📄 File: profile_record_clean.csv\n",
      "profile_record_id      int64\n",
      "profile               object\n",
      "site_info_id         float64\n",
      "sample_id            float64\n",
      "soil_type_id         float64\n",
      "dtype: object\n",
      "\n",
      "📄 File: lithology_mapping.csv\n",
      "lithology_code           object\n",
      "lithology_description    object\n",
      "dtype: object\n",
      "\n",
      "📄 File: topo_feat.csv\n",
      "topo_features_id       int64\n",
      "ID                     int64\n",
      "profile               object\n",
      "slope_code            object\n",
      "altitude             float64\n",
      "aspect               float64\n",
      "land_surface_temp    float64\n",
      "dem_elevation        float64\n",
      "dtype: object\n",
      "\n",
      "📄 File: geo_feat.csv\n",
      "geo_features_id       int64\n",
      "profile              object\n",
      "ID                    int64\n",
      "geology_id           object\n",
      "lithology_id         object\n",
      "lithology_1954_id    object\n",
      "dtype: object\n",
      "\n",
      "📄 File: climate_feat.csv\n",
      "climate_id                int64\n",
      "profile                  object\n",
      "ID                        int64\n",
      "mean_annual_temp        float64\n",
      "mean_annual_precip      float64\n",
      "koppen_climate           object\n",
      "thornthwaite_climate     object\n",
      "hydric_regime            object\n",
      "thermal_regime           object\n",
      "dtype: object\n"
     ]
    }
   ],
   "source": [
    "import pandas as pd\n",
    "import os\n",
    "\n",
    "# Set the path to your folder containing the 10 CSV files\n",
    "csv_folder = \"/Users/inesschwartz/Desktop/cleandata\"  \n",
    "\n",
    "# List all CSV files in the folder\n",
    "csv_files = [f for f in os.listdir(csv_folder) if f.endswith(\".csv\")]\n",
    "\n",
    "# Loop through each file and display column data types\n",
    "for file in csv_files:\n",
    "    file_path = os.path.join(csv_folder, file)\n",
    "    print(f\"\\n📄 File: {file}\")\n",
    "    \n",
    "    try:\n",
    "        df = pd.read_csv(file_path)\n",
    "        print(df.dtypes)\n",
    "    except Exception as e:\n",
    "        print(f\"⚠️ Error reading {file}: {e}\")"
   ]
  },
  {
   "cell_type": "code",
   "execution_count": 4,
   "metadata": {},
   "outputs": [
    {
     "name": "stdout",
     "output_type": "stream",
     "text": [
      "✅ Cleaned: analysis.csv\n",
      "✅ Cleaned: soil_type.csv\n",
      "✅ Cleaned: geology_mapping.csv\n",
      "✅ Cleaned: lithology1954_mapping.csv\n",
      "✅ Cleaned: samples_check.csv\n",
      "✅ Cleaned: morpho.csv\n",
      "✅ Cleaned: site_info.csv\n",
      "✅ Cleaned: profile_record_clean.csv\n",
      "✅ Cleaned: lithology_mapping.csv\n",
      "✅ Cleaned: topo_feat.csv\n",
      "✅ Cleaned: geo_feat.csv\n",
      "✅ Cleaned: climate_feat.csv\n",
      "🎯 All identifier columns standardized to string type.\n"
     ]
    }
   ],
   "source": [
    "# Folder containing the CSVs\n",
    "csv_folder = \"/Users/inesschwartz/Desktop/cleandata\"\n",
    "\n",
    "# List all CSV files in the folder\n",
    "csv_files = [f for f in os.listdir(csv_folder) if f.endswith(\".csv\")]\n",
    "\n",
    "# Define identifier columns\n",
    "identifier_columns = [\n",
    "    'sample_id', 'site_info_id', 'profile',\n",
    "    'horizon_id', 'lab_sample_id', 'climate_id',\n",
    "    'geo_features_id', 'topo_features_id', 'profile_record_id'\n",
    "]\n",
    "\n",
    "# Function to convert ID columns to string type\n",
    "def convert_identifiers_to_string(df, id_columns):\n",
    "    \"\"\"\n",
    "    Converts specified identifier columns in a DataFrame to string type,\n",
    "    safely handling float64 values and preserving missing values (NA).\n",
    "    \"\"\"\n",
    "    df = df.copy()\n",
    "    for col in id_columns:\n",
    "        if col in df.columns:\n",
    "            df.loc[:, col] = df[col].apply(\n",
    "                lambda x: str(int(x)) if pd.notna(x) and isinstance(x, float) and x.is_integer()\n",
    "                else str(x) if pd.notna(x)\n",
    "                else pd.NA\n",
    "            ).astype(\"string\")\n",
    "    return df\n",
    "\n",
    "# Loop through and clean all CSV files\n",
    "for file in csv_files:\n",
    "    file_path = os.path.join(csv_folder, file)\n",
    "    df = pd.read_csv(file_path)\n",
    "    df_cleaned = convert_identifiers_to_string(df, identifier_columns)\n",
    "    df_cleaned.to_csv(file_path, index=False)\n",
    "    print(f\"✅ Cleaned: {file}\")\n",
    "\n",
    "print(\"🎯 All identifier columns standardized to string type.\")\n"
   ]
  },
  {
   "cell_type": "markdown",
   "metadata": {},
   "source": [
    "An overview of how much data we had to clean out :("
   ]
  },
  {
   "cell_type": "code",
   "execution_count": 12,
   "metadata": {},
   "outputs": [
    {
     "data": {
      "text/plain": [
       "(14715, 8)"
      ]
     },
     "execution_count": 12,
     "metadata": {},
     "output_type": "execute_result"
    }
   ],
   "source": [
    "samples_check.shape"
   ]
  },
  {
   "cell_type": "code",
   "execution_count": 11,
   "metadata": {},
   "outputs": [
    {
     "data": {
      "text/plain": [
       "(10434, 30)"
      ]
     },
     "execution_count": 11,
     "metadata": {},
     "output_type": "execute_result"
    }
   ],
   "source": [
    "morpho.shape"
   ]
  },
  {
   "cell_type": "code",
   "execution_count": 10,
   "metadata": {},
   "outputs": [
    {
     "data": {
      "text/plain": [
       "(7763, 71)"
      ]
     },
     "execution_count": 10,
     "metadata": {},
     "output_type": "execute_result"
    }
   ],
   "source": [
    "lab_analysis.shape"
   ]
  },
  {
   "cell_type": "code",
   "execution_count": 14,
   "metadata": {},
   "outputs": [
    {
     "data": {
      "text/plain": [
       "(4321, 12)"
      ]
     },
     "execution_count": 14,
     "metadata": {},
     "output_type": "execute_result"
    }
   ],
   "source": [
    "site_info.shape"
   ]
  },
  {
   "cell_type": "markdown",
   "metadata": {},
   "source": [
    "## completing profile to sampe mampping table\n",
    "\n",
    "this is a mapping table to link soil profile to its site info, soil type info, and sample_id"
   ]
  },
  {
   "cell_type": "code",
   "execution_count": 22,
   "metadata": {},
   "outputs": [
    {
     "data": {
      "text/html": [
       "<div>\n",
       "<style scoped>\n",
       "    .dataframe tbody tr th:only-of-type {\n",
       "        vertical-align: middle;\n",
       "    }\n",
       "\n",
       "    .dataframe tbody tr th {\n",
       "        vertical-align: top;\n",
       "    }\n",
       "\n",
       "    .dataframe thead th {\n",
       "        text-align: right;\n",
       "    }\n",
       "</style>\n",
       "<table border=\"1\" class=\"dataframe\">\n",
       "  <thead>\n",
       "    <tr style=\"text-align: right;\">\n",
       "      <th></th>\n",
       "      <th>profile_record_id</th>\n",
       "      <th>profile</th>\n",
       "      <th>site_info_id</th>\n",
       "      <th>sample_id</th>\n",
       "      <th>soil_type_id</th>\n",
       "    </tr>\n",
       "  </thead>\n",
       "  <tbody>\n",
       "    <tr>\n",
       "      <th>0</th>\n",
       "      <td>1</td>\n",
       "      <td>1_57</td>\n",
       "      <td>1</td>\n",
       "      <td>4835</td>\n",
       "      <td>2.0</td>\n",
       "    </tr>\n",
       "    <tr>\n",
       "      <th>1</th>\n",
       "      <td>2</td>\n",
       "      <td>1_57</td>\n",
       "      <td>1</td>\n",
       "      <td>4836</td>\n",
       "      <td>2.0</td>\n",
       "    </tr>\n",
       "    <tr>\n",
       "      <th>2</th>\n",
       "      <td>3</td>\n",
       "      <td>1_57</td>\n",
       "      <td>1</td>\n",
       "      <td>4837</td>\n",
       "      <td>2.0</td>\n",
       "    </tr>\n",
       "    <tr>\n",
       "      <th>3</th>\n",
       "      <td>4</td>\n",
       "      <td>1_57</td>\n",
       "      <td>1</td>\n",
       "      <td>4838</td>\n",
       "      <td>2.0</td>\n",
       "    </tr>\n",
       "    <tr>\n",
       "      <th>4</th>\n",
       "      <td>5</td>\n",
       "      <td>1_57</td>\n",
       "      <td>1</td>\n",
       "      <td>4835.0</td>\n",
       "      <td>2.0</td>\n",
       "    </tr>\n",
       "  </tbody>\n",
       "</table>\n",
       "</div>"
      ],
      "text/plain": [
       "  profile_record_id profile site_info_id sample_id soil_type_id\n",
       "0                 1    1_57            1      4835          2.0\n",
       "1                 2    1_57            1      4836          2.0\n",
       "2                 3    1_57            1      4837          2.0\n",
       "3                 4    1_57            1      4838          2.0\n",
       "4                 5    1_57            1    4835.0          2.0"
      ]
     },
     "execution_count": 22,
     "metadata": {},
     "output_type": "execute_result"
    }
   ],
   "source": [
    "import pandas as pd\n",
    "\n",
    "# Step 1: Copy site_info_clean and prep soil_profile_record\n",
    "soil_profile_record = site_info.copy()\n",
    "\n",
    "# Step 0: Extract sample_id and profile from both dataframes\n",
    "samples_lab = lab_analysis[['sample_id', 'profile']].dropna().drop_duplicates()\n",
    "samples_morpho = morpho[['sample_id', 'profile']].dropna().drop_duplicates()\n",
    "\n",
    "# Ensure both dataframes have same dtypes for sample_id and profile\n",
    "samples_lab['sample_id'] = samples_lab['sample_id'].astype(str)\n",
    "samples_morpho['sample_id'] = samples_morpho['sample_id'].astype(str)\n",
    "samples_lab['profile'] = samples_lab['profile'].astype(str)\n",
    "samples_morpho['profile'] = samples_morpho['profile'].astype(str)\n",
    "\n",
    "# Combine using concat and drop duplicates\n",
    "morphoNlab_samples = pd.concat([samples_lab, samples_morpho], ignore_index=True)\n",
    "morphoNlab_samples = morphoNlab_samples.drop_duplicates().reset_index(drop=True)\n",
    "\n",
    "# Step 3: Get sample_id(s) per profile (from merged2)\n",
    "profile_samples = morphoNlab_samples[['profile', 'sample_id']].dropna().drop_duplicates()\n",
    "soil_profile_with_samples = soil_profile_record.merge(profile_samples, on='profile', how='left')\n",
    "\n",
    "# Step 4: Join with soil_type to get soil_type_id by profile\n",
    "profile_soil_types = soil_type[['profile', 'soil_type_id']].dropna().drop_duplicates()\n",
    "soil_profile_full = soil_profile_with_samples.merge(profile_soil_types, on='profile', how='left')\n",
    "\n",
    "# Step 5: Add profile_record_id as a primary key\n",
    "soil_profile_full = soil_profile_full.reset_index(drop=True)\n",
    "soil_profile_full.insert(0, 'profile_record_id', range(1, len(soil_profile_full) + 1))\n",
    "\n",
    "# Step 6: Select required columns\n",
    "soil_profile_record_final = soil_profile_full[[\n",
    "    'profile_record_id',\n",
    "    'profile',\n",
    "    'site_info_id',\n",
    "    'sample_id',\n",
    "    'soil_type_id'\n",
    "]].copy()\n",
    "\n",
    "# correct datatypes to all be strings\n",
    "soil_profile_record_final = soil_profile_record_final.astype(\"string\")\n",
    "\n",
    "# Optional: View or export\n",
    "soil_profile_record_final.head()\n",
    "soil_profile_record_final.to_csv(\"soil_profile_record.csv\", index=False)\n"
   ]
  },
  {
   "cell_type": "code",
   "execution_count": 23,
   "metadata": {},
   "outputs": [
    {
     "name": "stdout",
     "output_type": "stream",
     "text": [
      "🔍 Duplicate sample_id(s):\n",
      "      profile_record_id profile site_info_id sample_id soil_type_id\n",
      "16                   17    1_61            3      <NA>         <NA>\n",
      "32                   33    1_64            5      <NA>         <NA>\n",
      "33                   34    1_66            6      <NA>         <NA>\n",
      "34                   35    1_69            7      <NA>         <NA>\n",
      "35                   36    1_70            8      <NA>         <NA>\n",
      "...                 ...     ...          ...       ...          ...\n",
      "13369             13370  99c_62         4317      <NA>       2515.0\n",
      "13370             13371  99c_63         4318      <NA>       2516.0\n",
      "13371             13372   9c_60         4319      <NA>       2517.0\n",
      "13372             13373   9c_63         4320      <NA>       2518.0\n",
      "13373             13374   9c_65         4321      <NA>         <NA>\n",
      "\n",
      "[3118 rows x 5 columns]\n"
     ]
    }
   ],
   "source": [
    "duplicates = soil_profile_record_final[soil_profile_record_final.duplicated(subset='sample_id', keep=False)]\n",
    "print(\"🔍 Duplicate sample_id(s):\")\n",
    "print(duplicates)\n"
   ]
  }
 ],
 "metadata": {
  "kernelspec": {
   "display_name": "Python 3",
   "language": "python",
   "name": "python3"
  },
  "language_info": {
   "codemirror_mode": {
    "name": "ipython",
    "version": 3
   },
   "file_extension": ".py",
   "mimetype": "text/x-python",
   "name": "python",
   "nbconvert_exporter": "python",
   "pygments_lexer": "ipython3",
   "version": "3.11.12"
  }
 },
 "nbformat": 4,
 "nbformat_minor": 2
}
